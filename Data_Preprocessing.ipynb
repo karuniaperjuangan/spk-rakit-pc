{
 "cells": [
  {
   "cell_type": "code",
   "execution_count": 2,
   "metadata": {},
   "outputs": [],
   "source": [
    "import os, json, sys, pandas as pd, numpy as np, re"
   ]
  },
  {
   "attachments": {},
   "cell_type": "markdown",
   "metadata": {},
   "source": [
    "### Processor"
   ]
  },
  {
   "cell_type": "code",
   "execution_count": 40,
   "metadata": {},
   "outputs": [],
   "source": [
    "with open('./data/raw/amd_socket.json') as f:\n",
    "    amd_socket = json.load(f)\n",
    "\n",
    "with open('./data/raw/intel_socket.json') as f:\n",
    "    intel_socket = json.load(f)\n",
    "\n",
    "list_socket = amd_socket['result'] + intel_socket['result']"
   ]
  },
  {
   "cell_type": "code",
   "execution_count": 35,
   "metadata": {},
   "outputs": [
    {
     "name": "stdout",
     "output_type": "stream",
     "text": [
      "[590000, -5000]\n"
     ]
    }
   ],
   "source": [
    "\n",
    "\n",
    "\n",
    "with open('./data/raw/prosesor.json') as f:\n",
    "    processors = json.load(f)\n",
    "\n",
    "list_processors = processors['result']\n",
    "#remove processor if processor[\"PLINK\"] contains bundle\n",
    "list_processors = [processor for processor in list_processors if \"bundle\" not in processor[\"PLINK\"].lower()]\n",
    "\n",
    "processed_processor = []\n",
    "for socket in list_socket:\n",
    "    socket_processors = [processor for processor in list_processors if socket[\"PLINK\"].upper() in processor[\"PLINK\"].upper()]\n",
    "    for processor in socket_processors:\n",
    "        processor[\"socket\"] = socket[\"PLINK\"]\n",
    "        processor['brand'] = socket[\"BNAME\"]\n",
    "    processed_processor += socket_processors\n",
    "print([processor for processor in processed_processor if processor['socket'] == 'FM2'][0]['PPRCZ'])\n",
    "\n",
    "for processor in processed_processor:\n",
    "    processor['price'] = processor['PPRCZ'][0] if processor.get('PPRCZ') is not None else None\n",
    "    processor['image'] = processor['PIMGZ'][0] if processor.get('PIMGZ') is not None else None\n",
    "    #for deleted_key in ['PPRCZ', 'PIMGZ', 'PSTTS', 'PDTLS', 'PBEST', 'RTYPE']:\n",
    "    #    if processor.get(deleted_key) is not None:\n",
    "    #        del processor[deleted_key]\n",
    "\n",
    "#remove duplicated processor\n",
    "processed_processor = list({v['PCODE']:v for v in processed_processor}.values())\n",
    "\n",
    "\n",
    "for processor in processed_processor:\n",
    "    for deleted_key in ['PPRCZ', 'PIMGZ', 'PSTTS', 'PDTLS', 'PBEST', 'RTYPE']:\n",
    "        if processor.get(deleted_key) is not None:\n",
    "            del processor[deleted_key]\n",
    "\n",
    "#save processed processor\n",
    "with open('./data/processed/processor.json', 'w') as f:\n",
    "    json.dump(processed_processor, f, indent=2)"
   ]
  },
  {
   "attachments": {},
   "cell_type": "markdown",
   "metadata": {},
   "source": [
    "### Socket"
   ]
  },
  {
   "cell_type": "code",
   "execution_count": 41,
   "metadata": {},
   "outputs": [],
   "source": [
    "for socket in list_socket:\n",
    "    for deleted_key in ['PPRCZ', 'PIMGZ', 'PSTTS', 'PDTLS', 'PBEST']:\n",
    "        if socket.get(deleted_key) is not None:\n",
    "            del socket[deleted_key]\n",
    "with open('./data/processed/socket.json', 'w') as f:\n",
    "    json.dump(list_socket, f, indent=2)"
   ]
  },
  {
   "attachments": {},
   "cell_type": "markdown",
   "metadata": {},
   "source": [
    "### Other"
   ]
  },
  {
   "cell_type": "code",
   "execution_count": 59,
   "metadata": {},
   "outputs": [],
   "source": [
    "for part in ['casing','gpu','hdd','keyboard','monitor','motherboard','mouse','psu','ram','ssd']:\n",
    "    with open(f'./data/raw/{part}.json') as f:\n",
    "        item_json = json.load(f)\n",
    "\n",
    "    list_item = processors['result']\n",
    "    #remove item if item[\"PLINK\"] contains bundle\n",
    "    list_item = [item for item in item_json[\"result\"] if \"bundle\" not in item[\"PLINK\"].lower()]\n",
    "\n",
    "    \n",
    "\n",
    "    for item in list_item:\n",
    "        item['price'] = item['PPRCZ'][0] if item.get('PPRCZ') is not None else None\n",
    "        item['image'] = item['PIMGZ'][0] if item.get('PIMGZ') is not None else None\n",
    "\n",
    "\n",
    "    #remove duplicated item\n",
    "    list_item = list({v['PCODE']:v for v in list_item}.values())\n",
    "\n",
    "    if part in ['hdd','ssd','ram','gpu']:\n",
    "        #add size by finding xxGB in PLINK\n",
    "        for item in list_item:\n",
    "            capacity = re.findall(r'\\d+GB|\\d+MB|\\d+TB', item['PLINK'])\n",
    "            if len(capacity) > 0:\n",
    "                item['size'] = capacity[0]\n",
    "            else:\n",
    "                item['size'] = None\n",
    "    \n",
    "    if part in ['gpu']:\n",
    "        for item in list_item:\n",
    "            #add brand by finding Nvidia or AMD in PLINK\n",
    "            item['brand'] = 'nvidia' if ('nvidia' in item['PLINK'].lower() or\n",
    "                                        'geforce' in item['PLINK'].lower() or\n",
    "                                        'gt' in item['PLINK'].lower() or\n",
    "                                        'rtx' in item['PLINK'].lower() or\n",
    "                                        'quadro' in item['PLINK'].lower())    else 'amd' if ('amd' in item['PLINK'].lower() or\n",
    "                                                        'radeon' in item['PLINK'].lower()\n",
    "                                                        or 'rx' in item['PLINK'].lower())  else 'intel'\n",
    "\n",
    "    for item in list_item:\n",
    "        for deleted_key in ['PPRCZ', 'PIMGZ', 'PSTTS', 'PDTLS', 'PBEST', 'RTYPE']:\n",
    "            if item.get(deleted_key) is not None:\n",
    "                del item[deleted_key]\n",
    "\n",
    "    #save processed item\n",
    "    with open(f'./data/processed/{part}.json', 'w') as f:\n",
    "        json.dump(list_item, f, indent=2)\n"
   ]
  },
  {
   "attachments": {},
   "cell_type": "markdown",
   "metadata": {},
   "source": [
    "### all"
   ]
  },
  {
   "cell_type": "code",
   "execution_count": 62,
   "metadata": {},
   "outputs": [],
   "source": [
    "rename_key_dict ={\n",
    "    'PNAME': 'display_name',\n",
    "    'PLINK': 'name',\n",
    "    'BNAME': 'brand',\n",
    "    'PCODE': 'code',\n",
    "    'RTYPE': 'ram_type',\n",
    "}\n",
    "\n",
    "for file in os.listdir('./data/processed'):\n",
    "    if file.endswith('.json'):\n",
    "        with open(f'./data/processed/{file}') as f:\n",
    "            data = json.load(f)\n",
    "        #rename key\n",
    "        for item in data:\n",
    "            for original, replacement in rename_key_dict.items():\n",
    "                if item.get(original) is not None:\n",
    "                    item[replacement] = item.pop(original)\n",
    "    with open(f'./data/processed/{file}', 'w') as f:\n",
    "        json.dump(data, f, indent=2)"
   ]
  },
  {
   "attachments": {},
   "cell_type": "markdown",
   "metadata": {},
   "source": [
    "### ram"
   ]
  },
  {
   "cell_type": "code",
   "execution_count": 64,
   "metadata": {},
   "outputs": [],
   "source": [
    "with open('./data/processed/ram.json') as f:\n",
    "    ram = json.load(f)\n",
    "for item in ram:\n",
    "    ram_type = re.findall(r'DDR\\d', item['name'].upper())\n",
    "    item['ram_type'] = ram_type[0] if len(ram_type) > 0 else None\n",
    "with open('./data/processed/ram.json', 'w') as f:\n",
    "    json.dump(ram, f, indent=2)"
   ]
  },
  {
   "attachments": {},
   "cell_type": "markdown",
   "metadata": {},
   "source": [
    "### socket"
   ]
  },
  {
   "cell_type": "code",
   "execution_count": 6,
   "metadata": {},
   "outputs": [
    {
     "name": "stdout",
     "output_type": "stream",
     "text": [
      "AM5 : 61\n",
      "sWRX8 : 2\n",
      "sTRX4 : 3\n",
      "TR4 : 2\n",
      "AM4 : 120\n",
      "FM2 : 3\n",
      "AM1 : 0\n",
      "FM2 : 3\n",
      "AM3 : 0\n",
      "LGA-1700 : 176\n",
      "LGA-1200 : 61\n",
      "LGA-2066 : 5\n",
      "LGA-3647 : 0\n",
      "LGA-1151 : 35\n",
      "LGA-1150 : 14\n",
      "LGA-2011 : 0\n",
      "LGA-1155 : 9\n",
      "LGA-775 : 3\n"
     ]
    }
   ],
   "source": [
    "with open('./data/processed/socket.json') as f:\n",
    "    list_socket = json.load(f)\n",
    "with open('./data/processed/motherboard.json') as f:\n",
    "    list_motherboard = json.load(f)\n",
    "processed_motherboard = []\n",
    "\n",
    "for socket in list_socket:\n",
    "    motherboard_sockets = [motherboard for motherboard in list_motherboard if socket[\"name\"].upper().replace(\"-\",\"\") in motherboard[\"name\"].upper().replace(\"-\",\"\")]\n",
    "    print(socket[\"name\"],':',len(motherboard_sockets))\n",
    "    for motherboard in motherboard_sockets:\n",
    "        motherboard[\"socket\"] = socket[\"name\"]\n",
    "    processed_motherboard += motherboard_sockets\n",
    "\n",
    "\n",
    "with open('./data/processed/motherboard.json', 'w') as f:\n",
    "    json.dump(processed_motherboard, f, indent=2)"
   ]
  }
 ],
 "metadata": {
  "kernelspec": {
   "display_name": "base",
   "language": "python",
   "name": "python3"
  },
  "language_info": {
   "codemirror_mode": {
    "name": "ipython",
    "version": 3
   },
   "file_extension": ".py",
   "mimetype": "text/x-python",
   "name": "python",
   "nbconvert_exporter": "python",
   "pygments_lexer": "ipython3",
   "version": "3.9.12"
  },
  "orig_nbformat": 4
 },
 "nbformat": 4,
 "nbformat_minor": 2
}
